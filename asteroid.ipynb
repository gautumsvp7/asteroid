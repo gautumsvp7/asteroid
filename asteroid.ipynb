{
 "cells": [
  {
   "cell_type": "code",
   "execution_count": 1,
   "id": "a968464f-438a-48e5-a435-f7df3af8db16",
   "metadata": {
    "id": "a968464f-438a-48e5-a435-f7df3af8db16"
   },
   "outputs": [],
   "source": [
    "import pandas as pd\n",
    "import numpy as np"
   ]
  },
  {
   "cell_type": "code",
   "execution_count": 2,
   "id": "555d276b-0318-4491-9361-559daa441b31",
   "metadata": {
    "id": "555d276b-0318-4491-9361-559daa441b31"
   },
   "outputs": [],
   "source": [
    "df = pd.read_csv('asteroid_data.csv')"
   ]
  },
  {
   "cell_type": "code",
   "execution_count": 3,
   "id": "c6e62ac3-d09e-4b29-9323-e1726aa5891b",
   "metadata": {
    "colab": {
     "base_uri": "https://localhost:8080/",
     "height": 206
    },
    "id": "c6e62ac3-d09e-4b29-9323-e1726aa5891b",
    "outputId": "2cfb13fa-3e28-4112-a6c1-9c61153eadf0"
   },
   "outputs": [
    {
     "data": {
      "text/html": [
       "<div>\n",
       "<style scoped>\n",
       "    .dataframe tbody tr th:only-of-type {\n",
       "        vertical-align: middle;\n",
       "    }\n",
       "\n",
       "    .dataframe tbody tr th {\n",
       "        vertical-align: top;\n",
       "    }\n",
       "\n",
       "    .dataframe thead th {\n",
       "        text-align: right;\n",
       "    }\n",
       "</style>\n",
       "<table border=\"1\" class=\"dataframe\">\n",
       "  <thead>\n",
       "    <tr style=\"text-align: right;\">\n",
       "      <th></th>\n",
       "      <th>name</th>\n",
       "      <th>approach_date</th>\n",
       "      <th>diameter_km</th>\n",
       "      <th>velocity_kmph</th>\n",
       "      <th>distance_km</th>\n",
       "      <th>is_hazardous</th>\n",
       "    </tr>\n",
       "  </thead>\n",
       "  <tbody>\n",
       "    <tr>\n",
       "      <th>0</th>\n",
       "      <td>478784 (2012 UV136)</td>\n",
       "      <td>2025-06-02</td>\n",
       "      <td>0.045</td>\n",
       "      <td>49511.25</td>\n",
       "      <td>50442662.03</td>\n",
       "      <td>False</td>\n",
       "    </tr>\n",
       "    <tr>\n",
       "      <th>1</th>\n",
       "      <td>(2015 RQ35)</td>\n",
       "      <td>2025-06-02</td>\n",
       "      <td>0.082</td>\n",
       "      <td>11950.19</td>\n",
       "      <td>70450034.10</td>\n",
       "      <td>False</td>\n",
       "    </tr>\n",
       "    <tr>\n",
       "      <th>2</th>\n",
       "      <td>(2016 EL27)</td>\n",
       "      <td>2025-06-02</td>\n",
       "      <td>0.036</td>\n",
       "      <td>25733.18</td>\n",
       "      <td>54278219.47</td>\n",
       "      <td>False</td>\n",
       "    </tr>\n",
       "    <tr>\n",
       "      <th>3</th>\n",
       "      <td>(2019 VF1)</td>\n",
       "      <td>2025-06-02</td>\n",
       "      <td>0.149</td>\n",
       "      <td>80619.27</td>\n",
       "      <td>23118633.90</td>\n",
       "      <td>False</td>\n",
       "    </tr>\n",
       "    <tr>\n",
       "      <th>4</th>\n",
       "      <td>(2020 XS5)</td>\n",
       "      <td>2025-06-02</td>\n",
       "      <td>0.027</td>\n",
       "      <td>40999.06</td>\n",
       "      <td>36304847.90</td>\n",
       "      <td>False</td>\n",
       "    </tr>\n",
       "  </tbody>\n",
       "</table>\n",
       "</div>"
      ],
      "text/plain": [
       "                  name approach_date  diameter_km  velocity_kmph  distance_km  \\\n",
       "0  478784 (2012 UV136)    2025-06-02        0.045       49511.25  50442662.03   \n",
       "1          (2015 RQ35)    2025-06-02        0.082       11950.19  70450034.10   \n",
       "2          (2016 EL27)    2025-06-02        0.036       25733.18  54278219.47   \n",
       "3           (2019 VF1)    2025-06-02        0.149       80619.27  23118633.90   \n",
       "4           (2020 XS5)    2025-06-02        0.027       40999.06  36304847.90   \n",
       "\n",
       "   is_hazardous  \n",
       "0         False  \n",
       "1         False  \n",
       "2         False  \n",
       "3         False  \n",
       "4         False  "
      ]
     },
     "execution_count": 3,
     "metadata": {},
     "output_type": "execute_result"
    }
   ],
   "source": [
    "df.head()"
   ]
  },
  {
   "cell_type": "markdown",
   "id": "12b8cdf6-d46a-4d0a-ad86-fd42d8569ad5",
   "metadata": {
    "id": "12b8cdf6-d46a-4d0a-ad86-fd42d8569ad5"
   },
   "source": [
    "Define a label:\n",
    "\n",
    "If distance < 1 million km and size > 140m → \"High Risk\"\n",
    "\n",
    "Else if either condition met → \"Medium Risk\"\n",
    "\n",
    "Else → \"Low Risk\"\n",
    "\n",
    "👉 This creates a supervised dataset for ML."
   ]
  },
  {
   "cell_type": "code",
   "execution_count": 4,
   "id": "a506234d-ad3f-4de4-b0b4-2fe77d22b134",
   "metadata": {
    "colab": {
     "base_uri": "https://localhost:8080/"
    },
    "id": "a506234d-ad3f-4de4-b0b4-2fe77d22b134",
    "outputId": "1d5845ce-6f7d-4994-85d8-7045b886813c"
   },
   "outputs": [
    {
     "data": {
      "text/plain": [
       "3.855"
      ]
     },
     "execution_count": 4,
     "metadata": {},
     "output_type": "execute_result"
    }
   ],
   "source": [
    "max(df['diameter_km'])"
   ]
  },
  {
   "cell_type": "code",
   "execution_count": 5,
   "id": "c31b1514-767b-4381-b816-5e1967cc4f5f",
   "metadata": {
    "id": "c31b1514-767b-4381-b816-5e1967cc4f5f"
   },
   "outputs": [],
   "source": [
    "conditions = [\n",
    "    (df['distance_km'] < 1000000) & (df['diameter_km'] > 1.40),\n",
    "    (df['distance_km'] < 1000000) | (df['diameter_km'] > 1.40)\n",
    "]\n",
    "\n",
    "# Define the choices\n",
    "choices = ['High Risk', 'Medium Risk']\n",
    "\n",
    "# Create the 'risk' column\n",
    "df['risk'] = np.select(conditions, choices, default='Low Risk')\n"
   ]
  },
  {
   "cell_type": "code",
   "execution_count": 6,
   "id": "ab26b9ea-da58-411b-b510-6d91f7f27d20",
   "metadata": {
    "colab": {
     "base_uri": "https://localhost:8080/",
     "height": 423
    },
    "id": "ab26b9ea-da58-411b-b510-6d91f7f27d20",
    "outputId": "3c860de0-e1c2-47e7-882b-0bf78cb9559e"
   },
   "outputs": [
    {
     "data": {
      "text/html": [
       "<div>\n",
       "<style scoped>\n",
       "    .dataframe tbody tr th:only-of-type {\n",
       "        vertical-align: middle;\n",
       "    }\n",
       "\n",
       "    .dataframe tbody tr th {\n",
       "        vertical-align: top;\n",
       "    }\n",
       "\n",
       "    .dataframe thead th {\n",
       "        text-align: right;\n",
       "    }\n",
       "</style>\n",
       "<table border=\"1\" class=\"dataframe\">\n",
       "  <thead>\n",
       "    <tr style=\"text-align: right;\">\n",
       "      <th></th>\n",
       "      <th>name</th>\n",
       "      <th>approach_date</th>\n",
       "      <th>diameter_km</th>\n",
       "      <th>velocity_kmph</th>\n",
       "      <th>distance_km</th>\n",
       "      <th>is_hazardous</th>\n",
       "      <th>risk</th>\n",
       "    </tr>\n",
       "  </thead>\n",
       "  <tbody>\n",
       "    <tr>\n",
       "      <th>0</th>\n",
       "      <td>478784 (2012 UV136)</td>\n",
       "      <td>2025-06-02</td>\n",
       "      <td>0.045</td>\n",
       "      <td>49511.25</td>\n",
       "      <td>50442662.03</td>\n",
       "      <td>False</td>\n",
       "      <td>Low Risk</td>\n",
       "    </tr>\n",
       "    <tr>\n",
       "      <th>1</th>\n",
       "      <td>(2015 RQ35)</td>\n",
       "      <td>2025-06-02</td>\n",
       "      <td>0.082</td>\n",
       "      <td>11950.19</td>\n",
       "      <td>70450034.10</td>\n",
       "      <td>False</td>\n",
       "      <td>Low Risk</td>\n",
       "    </tr>\n",
       "    <tr>\n",
       "      <th>2</th>\n",
       "      <td>(2016 EL27)</td>\n",
       "      <td>2025-06-02</td>\n",
       "      <td>0.036</td>\n",
       "      <td>25733.18</td>\n",
       "      <td>54278219.47</td>\n",
       "      <td>False</td>\n",
       "      <td>Low Risk</td>\n",
       "    </tr>\n",
       "    <tr>\n",
       "      <th>3</th>\n",
       "      <td>(2019 VF1)</td>\n",
       "      <td>2025-06-02</td>\n",
       "      <td>0.149</td>\n",
       "      <td>80619.27</td>\n",
       "      <td>23118633.90</td>\n",
       "      <td>False</td>\n",
       "      <td>Low Risk</td>\n",
       "    </tr>\n",
       "    <tr>\n",
       "      <th>4</th>\n",
       "      <td>(2020 XS5)</td>\n",
       "      <td>2025-06-02</td>\n",
       "      <td>0.027</td>\n",
       "      <td>40999.06</td>\n",
       "      <td>36304847.90</td>\n",
       "      <td>False</td>\n",
       "      <td>Low Risk</td>\n",
       "    </tr>\n",
       "    <tr>\n",
       "      <th>...</th>\n",
       "      <td>...</td>\n",
       "      <td>...</td>\n",
       "      <td>...</td>\n",
       "      <td>...</td>\n",
       "      <td>...</td>\n",
       "      <td>...</td>\n",
       "      <td>...</td>\n",
       "    </tr>\n",
       "    <tr>\n",
       "      <th>1590</th>\n",
       "      <td>(2024 FA)</td>\n",
       "      <td>2025-03-09</td>\n",
       "      <td>0.187</td>\n",
       "      <td>86494.30</td>\n",
       "      <td>27568592.00</td>\n",
       "      <td>False</td>\n",
       "      <td>Low Risk</td>\n",
       "    </tr>\n",
       "    <tr>\n",
       "      <th>1591</th>\n",
       "      <td>(2025 DE4)</td>\n",
       "      <td>2025-03-09</td>\n",
       "      <td>0.063</td>\n",
       "      <td>48490.37</td>\n",
       "      <td>7719477.82</td>\n",
       "      <td>False</td>\n",
       "      <td>Low Risk</td>\n",
       "    </tr>\n",
       "    <tr>\n",
       "      <th>1592</th>\n",
       "      <td>(2025 DX4)</td>\n",
       "      <td>2025-03-09</td>\n",
       "      <td>0.042</td>\n",
       "      <td>8333.79</td>\n",
       "      <td>14738665.39</td>\n",
       "      <td>False</td>\n",
       "      <td>Low Risk</td>\n",
       "    </tr>\n",
       "    <tr>\n",
       "      <th>1593</th>\n",
       "      <td>(2025 DZ6)</td>\n",
       "      <td>2025-03-09</td>\n",
       "      <td>0.059</td>\n",
       "      <td>35613.66</td>\n",
       "      <td>4999225.93</td>\n",
       "      <td>False</td>\n",
       "      <td>Low Risk</td>\n",
       "    </tr>\n",
       "    <tr>\n",
       "      <th>1594</th>\n",
       "      <td>(2025 EC2)</td>\n",
       "      <td>2025-03-09</td>\n",
       "      <td>0.028</td>\n",
       "      <td>15741.28</td>\n",
       "      <td>557071.44</td>\n",
       "      <td>False</td>\n",
       "      <td>Medium Risk</td>\n",
       "    </tr>\n",
       "  </tbody>\n",
       "</table>\n",
       "<p>1595 rows × 7 columns</p>\n",
       "</div>"
      ],
      "text/plain": [
       "                     name approach_date  diameter_km  velocity_kmph  \\\n",
       "0     478784 (2012 UV136)    2025-06-02        0.045       49511.25   \n",
       "1             (2015 RQ35)    2025-06-02        0.082       11950.19   \n",
       "2             (2016 EL27)    2025-06-02        0.036       25733.18   \n",
       "3              (2019 VF1)    2025-06-02        0.149       80619.27   \n",
       "4              (2020 XS5)    2025-06-02        0.027       40999.06   \n",
       "...                   ...           ...          ...            ...   \n",
       "1590            (2024 FA)    2025-03-09        0.187       86494.30   \n",
       "1591           (2025 DE4)    2025-03-09        0.063       48490.37   \n",
       "1592           (2025 DX4)    2025-03-09        0.042        8333.79   \n",
       "1593           (2025 DZ6)    2025-03-09        0.059       35613.66   \n",
       "1594           (2025 EC2)    2025-03-09        0.028       15741.28   \n",
       "\n",
       "      distance_km  is_hazardous         risk  \n",
       "0     50442662.03         False     Low Risk  \n",
       "1     70450034.10         False     Low Risk  \n",
       "2     54278219.47         False     Low Risk  \n",
       "3     23118633.90         False     Low Risk  \n",
       "4     36304847.90         False     Low Risk  \n",
       "...           ...           ...          ...  \n",
       "1590  27568592.00         False     Low Risk  \n",
       "1591   7719477.82         False     Low Risk  \n",
       "1592  14738665.39         False     Low Risk  \n",
       "1593   4999225.93         False     Low Risk  \n",
       "1594    557071.44         False  Medium Risk  \n",
       "\n",
       "[1595 rows x 7 columns]"
      ]
     },
     "execution_count": 6,
     "metadata": {},
     "output_type": "execute_result"
    }
   ],
   "source": [
    "df"
   ]
  },
  {
   "cell_type": "code",
   "execution_count": 7,
   "id": "b3782116-e92b-4ac5-9b52-d294e83f3ec7",
   "metadata": {
    "id": "b3782116-e92b-4ac5-9b52-d294e83f3ec7"
   },
   "outputs": [],
   "source": [
    "# Define the mapping\n",
    "risk_mapping = {\n",
    "    'Low Risk': 0,\n",
    "    'Medium Risk': 1,\n",
    "    'High Risk': 2\n",
    "}\n",
    "\n",
    "# Apply the mapping\n",
    "df['risk_numeric'] = df['risk'].map(risk_mapping)"
   ]
  },
  {
   "cell_type": "code",
   "execution_count": 8,
   "id": "eabc7917-a062-43ab-b0d2-9cf882b861ac",
   "metadata": {
    "colab": {
     "base_uri": "https://localhost:8080/",
     "height": 423
    },
    "id": "eabc7917-a062-43ab-b0d2-9cf882b861ac",
    "outputId": "f67186c2-7131-4c65-d4f7-7e80fafd4163"
   },
   "outputs": [
    {
     "data": {
      "text/html": [
       "<div>\n",
       "<style scoped>\n",
       "    .dataframe tbody tr th:only-of-type {\n",
       "        vertical-align: middle;\n",
       "    }\n",
       "\n",
       "    .dataframe tbody tr th {\n",
       "        vertical-align: top;\n",
       "    }\n",
       "\n",
       "    .dataframe thead th {\n",
       "        text-align: right;\n",
       "    }\n",
       "</style>\n",
       "<table border=\"1\" class=\"dataframe\">\n",
       "  <thead>\n",
       "    <tr style=\"text-align: right;\">\n",
       "      <th></th>\n",
       "      <th>name</th>\n",
       "      <th>approach_date</th>\n",
       "      <th>diameter_km</th>\n",
       "      <th>velocity_kmph</th>\n",
       "      <th>distance_km</th>\n",
       "      <th>is_hazardous</th>\n",
       "      <th>risk</th>\n",
       "      <th>risk_numeric</th>\n",
       "    </tr>\n",
       "  </thead>\n",
       "  <tbody>\n",
       "    <tr>\n",
       "      <th>0</th>\n",
       "      <td>478784 (2012 UV136)</td>\n",
       "      <td>2025-06-02</td>\n",
       "      <td>0.045</td>\n",
       "      <td>49511.25</td>\n",
       "      <td>50442662.03</td>\n",
       "      <td>False</td>\n",
       "      <td>Low Risk</td>\n",
       "      <td>0</td>\n",
       "    </tr>\n",
       "    <tr>\n",
       "      <th>1</th>\n",
       "      <td>(2015 RQ35)</td>\n",
       "      <td>2025-06-02</td>\n",
       "      <td>0.082</td>\n",
       "      <td>11950.19</td>\n",
       "      <td>70450034.10</td>\n",
       "      <td>False</td>\n",
       "      <td>Low Risk</td>\n",
       "      <td>0</td>\n",
       "    </tr>\n",
       "    <tr>\n",
       "      <th>2</th>\n",
       "      <td>(2016 EL27)</td>\n",
       "      <td>2025-06-02</td>\n",
       "      <td>0.036</td>\n",
       "      <td>25733.18</td>\n",
       "      <td>54278219.47</td>\n",
       "      <td>False</td>\n",
       "      <td>Low Risk</td>\n",
       "      <td>0</td>\n",
       "    </tr>\n",
       "    <tr>\n",
       "      <th>3</th>\n",
       "      <td>(2019 VF1)</td>\n",
       "      <td>2025-06-02</td>\n",
       "      <td>0.149</td>\n",
       "      <td>80619.27</td>\n",
       "      <td>23118633.90</td>\n",
       "      <td>False</td>\n",
       "      <td>Low Risk</td>\n",
       "      <td>0</td>\n",
       "    </tr>\n",
       "    <tr>\n",
       "      <th>4</th>\n",
       "      <td>(2020 XS5)</td>\n",
       "      <td>2025-06-02</td>\n",
       "      <td>0.027</td>\n",
       "      <td>40999.06</td>\n",
       "      <td>36304847.90</td>\n",
       "      <td>False</td>\n",
       "      <td>Low Risk</td>\n",
       "      <td>0</td>\n",
       "    </tr>\n",
       "    <tr>\n",
       "      <th>...</th>\n",
       "      <td>...</td>\n",
       "      <td>...</td>\n",
       "      <td>...</td>\n",
       "      <td>...</td>\n",
       "      <td>...</td>\n",
       "      <td>...</td>\n",
       "      <td>...</td>\n",
       "      <td>...</td>\n",
       "    </tr>\n",
       "    <tr>\n",
       "      <th>1590</th>\n",
       "      <td>(2024 FA)</td>\n",
       "      <td>2025-03-09</td>\n",
       "      <td>0.187</td>\n",
       "      <td>86494.30</td>\n",
       "      <td>27568592.00</td>\n",
       "      <td>False</td>\n",
       "      <td>Low Risk</td>\n",
       "      <td>0</td>\n",
       "    </tr>\n",
       "    <tr>\n",
       "      <th>1591</th>\n",
       "      <td>(2025 DE4)</td>\n",
       "      <td>2025-03-09</td>\n",
       "      <td>0.063</td>\n",
       "      <td>48490.37</td>\n",
       "      <td>7719477.82</td>\n",
       "      <td>False</td>\n",
       "      <td>Low Risk</td>\n",
       "      <td>0</td>\n",
       "    </tr>\n",
       "    <tr>\n",
       "      <th>1592</th>\n",
       "      <td>(2025 DX4)</td>\n",
       "      <td>2025-03-09</td>\n",
       "      <td>0.042</td>\n",
       "      <td>8333.79</td>\n",
       "      <td>14738665.39</td>\n",
       "      <td>False</td>\n",
       "      <td>Low Risk</td>\n",
       "      <td>0</td>\n",
       "    </tr>\n",
       "    <tr>\n",
       "      <th>1593</th>\n",
       "      <td>(2025 DZ6)</td>\n",
       "      <td>2025-03-09</td>\n",
       "      <td>0.059</td>\n",
       "      <td>35613.66</td>\n",
       "      <td>4999225.93</td>\n",
       "      <td>False</td>\n",
       "      <td>Low Risk</td>\n",
       "      <td>0</td>\n",
       "    </tr>\n",
       "    <tr>\n",
       "      <th>1594</th>\n",
       "      <td>(2025 EC2)</td>\n",
       "      <td>2025-03-09</td>\n",
       "      <td>0.028</td>\n",
       "      <td>15741.28</td>\n",
       "      <td>557071.44</td>\n",
       "      <td>False</td>\n",
       "      <td>Medium Risk</td>\n",
       "      <td>1</td>\n",
       "    </tr>\n",
       "  </tbody>\n",
       "</table>\n",
       "<p>1595 rows × 8 columns</p>\n",
       "</div>"
      ],
      "text/plain": [
       "                     name approach_date  diameter_km  velocity_kmph  \\\n",
       "0     478784 (2012 UV136)    2025-06-02        0.045       49511.25   \n",
       "1             (2015 RQ35)    2025-06-02        0.082       11950.19   \n",
       "2             (2016 EL27)    2025-06-02        0.036       25733.18   \n",
       "3              (2019 VF1)    2025-06-02        0.149       80619.27   \n",
       "4              (2020 XS5)    2025-06-02        0.027       40999.06   \n",
       "...                   ...           ...          ...            ...   \n",
       "1590            (2024 FA)    2025-03-09        0.187       86494.30   \n",
       "1591           (2025 DE4)    2025-03-09        0.063       48490.37   \n",
       "1592           (2025 DX4)    2025-03-09        0.042        8333.79   \n",
       "1593           (2025 DZ6)    2025-03-09        0.059       35613.66   \n",
       "1594           (2025 EC2)    2025-03-09        0.028       15741.28   \n",
       "\n",
       "      distance_km  is_hazardous         risk  risk_numeric  \n",
       "0     50442662.03         False     Low Risk             0  \n",
       "1     70450034.10         False     Low Risk             0  \n",
       "2     54278219.47         False     Low Risk             0  \n",
       "3     23118633.90         False     Low Risk             0  \n",
       "4     36304847.90         False     Low Risk             0  \n",
       "...           ...           ...          ...           ...  \n",
       "1590  27568592.00         False     Low Risk             0  \n",
       "1591   7719477.82         False     Low Risk             0  \n",
       "1592  14738665.39         False     Low Risk             0  \n",
       "1593   4999225.93         False     Low Risk             0  \n",
       "1594    557071.44         False  Medium Risk             1  \n",
       "\n",
       "[1595 rows x 8 columns]"
      ]
     },
     "execution_count": 8,
     "metadata": {},
     "output_type": "execute_result"
    }
   ],
   "source": [
    "df"
   ]
  },
  {
   "cell_type": "code",
   "execution_count": 9,
   "id": "Qnfs_7AtYkYR",
   "metadata": {
    "colab": {
     "base_uri": "https://localhost:8080/"
    },
    "id": "Qnfs_7AtYkYR",
    "outputId": "03d1c23b-b296-4849-efb0-bab06cb2bd80"
   },
   "outputs": [
    {
     "name": "stdout",
     "output_type": "stream",
     "text": [
      "{False, True}\n"
     ]
    }
   ],
   "source": [
    "# prompt: Print all the values possible in is_hazardous as a set\n",
    "\n",
    "print(set(df['is_hazardous']))"
   ]
  },
  {
   "cell_type": "code",
   "execution_count": 10,
   "id": "nuaFYGrXYpeh",
   "metadata": {
    "colab": {
     "base_uri": "https://localhost:8080/",
     "height": 410
    },
    "id": "nuaFYGrXYpeh",
    "outputId": "b3e4b575-0fbc-4e93-a0ca-71ffc61803c4"
   },
   "outputs": [
    {
     "data": {
      "image/png": "[encoded data removed]",
      "text/plain": [
       "<Figure size 600x400 with 1 Axes>"
      ]
     },
     "metadata": {},
     "output_type": "display_data"
    }
   ],
   "source": [
    "# prompt: plot the distribution of 0 and 1 in is_hazardous\n",
    "\n",
    "import matplotlib.pyplot as plt\n",
    "\n",
    "plt.figure(figsize=(6, 4))\n",
    "df['is_hazardous'].value_counts().plot(kind='bar')\n",
    "plt.title('Distribution of is_hazardous (0 and 1)')\n",
    "plt.xlabel('is_hazardous')\n",
    "plt.ylabel('Count')\n",
    "plt.xticks(rotation=0)\n",
    "plt.show()"
   ]
  },
  {
   "cell_type": "markdown",
   "id": "418811fd-e52d-461d-9d46-933fb70ad155",
   "metadata": {
    "id": "418811fd-e52d-461d-9d46-933fb70ad155"
   },
   "source": [
    "# EDA"
   ]
  },
  {
   "cell_type": "code",
   "execution_count": 11,
   "id": "721287c6-3071-4bdc-b743-492a11723c96",
   "metadata": {
    "colab": {
     "base_uri": "https://localhost:8080/",
     "height": 426
    },
    "id": "721287c6-3071-4bdc-b743-492a11723c96",
    "outputId": "e2926909-62ba-48ce-beee-ab4909362c0c"
   },
   "outputs": [
    {
     "data": {
      "image/png": "[encoded data removed]",
      "text/plain": [
       "<Figure size 1000x400 with 1 Axes>"
      ]
     },
     "metadata": {},
     "output_type": "display_data"
    }
   ],
   "source": [
    "df['approach_date'] = pd.to_datetime(df['approach_date'])\n",
    "daily_counts = df.groupby('approach_date').size()\n",
    "\n",
    "import matplotlib.pyplot as plt\n",
    "daily_counts.plot(title='Asteroid Approaches Over Time', figsize=(10, 4))\n",
    "plt.xlabel(\"Date\")\n",
    "plt.ylabel(\"Count\")\n",
    "plt.grid(True)\n",
    "plt.show()\n"
   ]
  },
  {
   "cell_type": "markdown",
   "id": "0Gq27nIqLigV",
   "metadata": {
    "id": "0Gq27nIqLigV"
   },
   "source": [
    "Date is meangingless in the scale of time in space"
   ]
  },
  {
   "cell_type": "code",
   "execution_count": 12,
   "id": "Gr0P7nNhLorA",
   "metadata": {
    "colab": {
     "base_uri": "https://localhost:8080/",
     "height": 261
    },
    "id": "Gr0P7nNhLorA",
    "outputId": "9cc7b7c6-1c63-4e1e-e3d7-ca32d7de7fb7"
   },
   "outputs": [
    {
     "name": "stderr",
     "output_type": "stream",
     "text": [
      "C:\\Users\\gautu\\AppData\\Local\\Temp\\ipykernel_25564\\2303503372.py:3: FutureWarning: Downcasting behavior in `replace` is deprecated and will be removed in a future version. To retain the old behavior, explicitly call `result.infer_objects(copy=False)`. To opt-in to the future behavior, set `pd.set_option('future.no_silent_downcasting', True)`\n",
      "  df['is_hazardous'] = df['is_hazardous'].replace({False: 0, True: 1})\n"
     ]
    },
    {
     "data": {
      "text/html": [
       "<div>\n",
       "<style scoped>\n",
       "    .dataframe tbody tr th:only-of-type {\n",
       "        vertical-align: middle;\n",
       "    }\n",
       "\n",
       "    .dataframe tbody tr th {\n",
       "        vertical-align: top;\n",
       "    }\n",
       "\n",
       "    .dataframe thead th {\n",
       "        text-align: right;\n",
       "    }\n",
       "</style>\n",
       "<table border=\"1\" class=\"dataframe\">\n",
       "  <thead>\n",
       "    <tr style=\"text-align: right;\">\n",
       "      <th></th>\n",
       "      <th>name</th>\n",
       "      <th>approach_date</th>\n",
       "      <th>diameter_km</th>\n",
       "      <th>velocity_kmph</th>\n",
       "      <th>distance_km</th>\n",
       "      <th>is_hazardous</th>\n",
       "      <th>risk</th>\n",
       "      <th>risk_numeric</th>\n",
       "    </tr>\n",
       "  </thead>\n",
       "  <tbody>\n",
       "    <tr>\n",
       "      <th>0</th>\n",
       "      <td>478784 (2012 UV136)</td>\n",
       "      <td>2025-06-02</td>\n",
       "      <td>0.045</td>\n",
       "      <td>49511.25</td>\n",
       "      <td>50442662.03</td>\n",
       "      <td>0</td>\n",
       "      <td>Low Risk</td>\n",
       "      <td>0</td>\n",
       "    </tr>\n",
       "    <tr>\n",
       "      <th>1</th>\n",
       "      <td>(2015 RQ35)</td>\n",
       "      <td>2025-06-02</td>\n",
       "      <td>0.082</td>\n",
       "      <td>11950.19</td>\n",
       "      <td>70450034.10</td>\n",
       "      <td>0</td>\n",
       "      <td>Low Risk</td>\n",
       "      <td>0</td>\n",
       "    </tr>\n",
       "    <tr>\n",
       "      <th>2</th>\n",
       "      <td>(2016 EL27)</td>\n",
       "      <td>2025-06-02</td>\n",
       "      <td>0.036</td>\n",
       "      <td>25733.18</td>\n",
       "      <td>54278219.47</td>\n",
       "      <td>0</td>\n",
       "      <td>Low Risk</td>\n",
       "      <td>0</td>\n",
       "    </tr>\n",
       "    <tr>\n",
       "      <th>3</th>\n",
       "      <td>(2019 VF1)</td>\n",
       "      <td>2025-06-02</td>\n",
       "      <td>0.149</td>\n",
       "      <td>80619.27</td>\n",
       "      <td>23118633.90</td>\n",
       "      <td>0</td>\n",
       "      <td>Low Risk</td>\n",
       "      <td>0</td>\n",
       "    </tr>\n",
       "    <tr>\n",
       "      <th>4</th>\n",
       "      <td>(2020 XS5)</td>\n",
       "      <td>2025-06-02</td>\n",
       "      <td>0.027</td>\n",
       "      <td>40999.06</td>\n",
       "      <td>36304847.90</td>\n",
       "      <td>0</td>\n",
       "      <td>Low Risk</td>\n",
       "      <td>0</td>\n",
       "    </tr>\n",
       "  </tbody>\n",
       "</table>\n",
       "</div>"
      ],
      "text/plain": [
       "                  name approach_date  diameter_km  velocity_kmph  distance_km  \\\n",
       "0  478784 (2012 UV136)    2025-06-02        0.045       49511.25  50442662.03   \n",
       "1          (2015 RQ35)    2025-06-02        0.082       11950.19  70450034.10   \n",
       "2          (2016 EL27)    2025-06-02        0.036       25733.18  54278219.47   \n",
       "3           (2019 VF1)    2025-06-02        0.149       80619.27  23118633.90   \n",
       "4           (2020 XS5)    2025-06-02        0.027       40999.06  36304847.90   \n",
       "\n",
       "   is_hazardous      risk  risk_numeric  \n",
       "0             0  Low Risk             0  \n",
       "1             0  Low Risk             0  \n",
       "2             0  Low Risk             0  \n",
       "3             0  Low Risk             0  \n",
       "4             0  Low Risk             0  "
      ]
     },
     "execution_count": 12,
     "metadata": {},
     "output_type": "execute_result"
    }
   ],
   "source": [
    "# prompt: replace 'False' with 0 and 'True' with 1 in is_hazardous\n",
    "\n",
    "df['is_hazardous'] = df['is_hazardous'].replace({False: 0, True: 1})\n",
    "df.head()"
   ]
  },
  {
   "cell_type": "code",
   "execution_count": 13,
   "id": "kNAJ3aTsMLDy",
   "metadata": {
    "id": "kNAJ3aTsMLDy"
   },
   "outputs": [],
   "source": [
    "# prompt: Using dataframe df: Drop the column risk and rename risk_numeric to risk\n",
    "\n",
    "# Drop the column 'risk'\n",
    "df = df.drop('risk', axis=1)\n",
    "\n",
    "# Rename the column 'risk_numeric' to 'risk'\n",
    "df = df.rename(columns={'risk_numeric': 'risk'})"
   ]
  },
  {
   "cell_type": "code",
   "execution_count": 14,
   "id": "3h_u-Ht-Mz8q",
   "metadata": {
    "id": "3h_u-Ht-Mz8q"
   },
   "outputs": [],
   "source": [
    "new_df = df[['diameter_km', 'velocity_kmph', 'distance_km','is_hazardous','risk']]"
   ]
  },
  {
   "cell_type": "code",
   "execution_count": 15,
   "id": "OFiEQxy4MR0u",
   "metadata": {
    "colab": {
     "base_uri": "https://localhost:8080/",
     "height": 699
    },
    "id": "OFiEQxy4MR0u",
    "outputId": "9325b7c6-b075-4519-9b84-2d02ec9f6790"
   },
   "outputs": [
    {
     "data": {
      "image/png": "[encoded data removed]",
      "text/plain": [
       "<Figure size 1000x800 with 2 Axes>"
      ]
     },
     "metadata": {},
     "output_type": "display_data"
    }
   ],
   "source": [
    "# prompt: Create correlation matrix for all columns with seaborn\n",
    "\n",
    "import matplotlib.pyplot as plt\n",
    "import seaborn as sns\n",
    "\n",
    "correlation_matrix = new_df.corr()\n",
    "plt.figure(figsize=(10, 8))\n",
    "sns.heatmap(correlation_matrix, annot=True, cmap='coolwarm', fmt=\".2f\")\n",
    "plt.title('Correlation Matrix of Numerical Columns')\n",
    "plt.show()\n"
   ]
  },
  {
   "cell_type": "markdown",
   "id": "8WJJdQtVNUrY",
   "metadata": {
    "id": "8WJJdQtVNUrY"
   },
   "source": [
    "Seems that distance_km has the highest correlation"
   ]
  },
  {
   "cell_type": "markdown",
   "id": "MhCrsnZOQ5dJ",
   "metadata": {
    "id": "MhCrsnZOQ5dJ"
   },
   "source": [
    "#### 1. **`diameter_km` vs `is_hazardous` → 0.40**\n",
    "\n",
    "* **Moderate positive correlation**\n",
    "* 🚀 Bigger asteroids are *more likely* to be classified as hazardous.\n",
    "* This makes sense scientifically — larger objects cause more damage if they hit.\n",
    "\n",
    "---\n",
    "\n",
    "#### 2. **`velocity_kmph` vs `distance_km` → 0.35**\n",
    "\n",
    "* Slight positive correlation\n",
    "* 🛰️ Faster asteroids tend to pass at a slightly greater distance. Possibly a detection bias or physical trend, but weak.\n",
    "\n",
    "---\n",
    "\n",
    "#### 3. **`distance_km` vs `risk` → -0.30**\n",
    "\n",
    "* ❗ Weak-to-moderate **negative** correlation\n",
    "* As expected: **closer asteroids = higher risk**\n",
    "\n",
    "---\n",
    "\n",
    "#### 4. **`diameter_km`, `velocity_kmph`, and `distance_km` vs `risk` → all \\~0 to -0.30**\n",
    "\n",
    "* Low correlations, but `distance_km` has the strongest impact on `risk`\n",
    "* Suggests that `risk` may be more dependent on a **combination** of features rather than any one factor\n",
    "\n",
    "---\n",
    "\n",
    "#### 5. **`is_hazardous` vs `risk` → -0.04**\n",
    "\n",
    "* Basically no correlation\n",
    "\n"
   ]
  },
  {
   "cell_type": "markdown",
   "id": "-aYVVq6PSGF-",
   "metadata": {
    "id": "-aYVVq6PSGF-"
   },
   "source": [
    "Not much information available to clarify the logic for using is_hazardous"
   ]
  },
  {
   "cell_type": "code",
   "execution_count": 16,
   "id": "0pX_oI_jRJzq",
   "metadata": {
    "colab": {
     "base_uri": "https://localhost:8080/",
     "height": 423
    },
    "id": "0pX_oI_jRJzq",
    "outputId": "5fde1e7c-0ad1-4cfb-852d-4d0ff380cd7b"
   },
   "outputs": [
    {
     "data": {
      "text/html": [
       "<div>\n",
       "<style scoped>\n",
       "    .dataframe tbody tr th:only-of-type {\n",
       "        vertical-align: middle;\n",
       "    }\n",
       "\n",
       "    .dataframe tbody tr th {\n",
       "        vertical-align: top;\n",
       "    }\n",
       "\n",
       "    .dataframe thead th {\n",
       "        text-align: right;\n",
       "    }\n",
       "</style>\n",
       "<table border=\"1\" class=\"dataframe\">\n",
       "  <thead>\n",
       "    <tr style=\"text-align: right;\">\n",
       "      <th></th>\n",
       "      <th>diameter_km</th>\n",
       "      <th>velocity_kmph</th>\n",
       "      <th>distance_km</th>\n",
       "      <th>is_hazardous</th>\n",
       "      <th>risk</th>\n",
       "    </tr>\n",
       "  </thead>\n",
       "  <tbody>\n",
       "    <tr>\n",
       "      <th>0</th>\n",
       "      <td>0.045</td>\n",
       "      <td>49511.25</td>\n",
       "      <td>50442662.03</td>\n",
       "      <td>0</td>\n",
       "      <td>0</td>\n",
       "    </tr>\n",
       "    <tr>\n",
       "      <th>1</th>\n",
       "      <td>0.082</td>\n",
       "      <td>11950.19</td>\n",
       "      <td>70450034.10</td>\n",
       "      <td>0</td>\n",
       "      <td>0</td>\n",
       "    </tr>\n",
       "    <tr>\n",
       "      <th>2</th>\n",
       "      <td>0.036</td>\n",
       "      <td>25733.18</td>\n",
       "      <td>54278219.47</td>\n",
       "      <td>0</td>\n",
       "      <td>0</td>\n",
       "    </tr>\n",
       "    <tr>\n",
       "      <th>3</th>\n",
       "      <td>0.149</td>\n",
       "      <td>80619.27</td>\n",
       "      <td>23118633.90</td>\n",
       "      <td>0</td>\n",
       "      <td>0</td>\n",
       "    </tr>\n",
       "    <tr>\n",
       "      <th>4</th>\n",
       "      <td>0.027</td>\n",
       "      <td>40999.06</td>\n",
       "      <td>36304847.90</td>\n",
       "      <td>0</td>\n",
       "      <td>0</td>\n",
       "    </tr>\n",
       "    <tr>\n",
       "      <th>...</th>\n",
       "      <td>...</td>\n",
       "      <td>...</td>\n",
       "      <td>...</td>\n",
       "      <td>...</td>\n",
       "      <td>...</td>\n",
       "    </tr>\n",
       "    <tr>\n",
       "      <th>1590</th>\n",
       "      <td>0.187</td>\n",
       "      <td>86494.30</td>\n",
       "      <td>27568592.00</td>\n",
       "      <td>0</td>\n",
       "      <td>0</td>\n",
       "    </tr>\n",
       "    <tr>\n",
       "      <th>1591</th>\n",
       "      <td>0.063</td>\n",
       "      <td>48490.37</td>\n",
       "      <td>7719477.82</td>\n",
       "      <td>0</td>\n",
       "      <td>0</td>\n",
       "    </tr>\n",
       "    <tr>\n",
       "      <th>1592</th>\n",
       "      <td>0.042</td>\n",
       "      <td>8333.79</td>\n",
       "      <td>14738665.39</td>\n",
       "      <td>0</td>\n",
       "      <td>0</td>\n",
       "    </tr>\n",
       "    <tr>\n",
       "      <th>1593</th>\n",
       "      <td>0.059</td>\n",
       "      <td>35613.66</td>\n",
       "      <td>4999225.93</td>\n",
       "      <td>0</td>\n",
       "      <td>0</td>\n",
       "    </tr>\n",
       "    <tr>\n",
       "      <th>1594</th>\n",
       "      <td>0.028</td>\n",
       "      <td>15741.28</td>\n",
       "      <td>557071.44</td>\n",
       "      <td>0</td>\n",
       "      <td>1</td>\n",
       "    </tr>\n",
       "  </tbody>\n",
       "</table>\n",
       "<p>1595 rows × 5 columns</p>\n",
       "</div>"
      ],
      "text/plain": [
       "      diameter_km  velocity_kmph  distance_km  is_hazardous  risk\n",
       "0           0.045       49511.25  50442662.03             0     0\n",
       "1           0.082       11950.19  70450034.10             0     0\n",
       "2           0.036       25733.18  54278219.47             0     0\n",
       "3           0.149       80619.27  23118633.90             0     0\n",
       "4           0.027       40999.06  36304847.90             0     0\n",
       "...           ...            ...          ...           ...   ...\n",
       "1590        0.187       86494.30  27568592.00             0     0\n",
       "1591        0.063       48490.37   7719477.82             0     0\n",
       "1592        0.042        8333.79  14738665.39             0     0\n",
       "1593        0.059       35613.66   4999225.93             0     0\n",
       "1594        0.028       15741.28    557071.44             0     1\n",
       "\n",
       "[1595 rows x 5 columns]"
      ]
     },
     "execution_count": 16,
     "metadata": {},
     "output_type": "execute_result"
    }
   ],
   "source": [
    "new_df"
   ]
  },
  {
   "cell_type": "code",
   "execution_count": 17,
   "id": "x4R1v8ceTKns",
   "metadata": {
    "colab": {
     "base_uri": "https://localhost:8080/",
     "height": 310
    },
    "id": "x4R1v8ceTKns",
    "outputId": "ea8e2244-af8b-4c17-a6e0-8a5159f65283"
   },
   "outputs": [
    {
     "name": "stderr",
     "output_type": "stream",
     "text": [
      "C:\\Users\\gautu\\AppData\\Local\\Temp\\ipykernel_25564\\3933996771.py:3: SettingWithCopyWarning: \n",
      "A value is trying to be set on a copy of a slice from a DataFrame.\n",
      "Try using .loc[row_indexer,col_indexer] = value instead\n",
      "\n",
      "See the caveats in the documentation: https://pandas.pydata.org/pandas-docs/stable/user_guide/indexing.html#returning-a-view-versus-a-copy\n",
      "  new_df['risk_score'] = (new_df['diameter_km'] * (new_df['velocity_kmph']**2)) / new_df['distance_km']\n"
     ]
    },
    {
     "data": {
      "text/html": [
       "<div>\n",
       "<style scoped>\n",
       "    .dataframe tbody tr th:only-of-type {\n",
       "        vertical-align: middle;\n",
       "    }\n",
       "\n",
       "    .dataframe tbody tr th {\n",
       "        vertical-align: top;\n",
       "    }\n",
       "\n",
       "    .dataframe thead th {\n",
       "        text-align: right;\n",
       "    }\n",
       "</style>\n",
       "<table border=\"1\" class=\"dataframe\">\n",
       "  <thead>\n",
       "    <tr style=\"text-align: right;\">\n",
       "      <th></th>\n",
       "      <th>diameter_km</th>\n",
       "      <th>velocity_kmph</th>\n",
       "      <th>distance_km</th>\n",
       "      <th>is_hazardous</th>\n",
       "      <th>risk_score</th>\n",
       "    </tr>\n",
       "  </thead>\n",
       "  <tbody>\n",
       "    <tr>\n",
       "      <th>0</th>\n",
       "      <td>0.045</td>\n",
       "      <td>49511.25</td>\n",
       "      <td>50442662.03</td>\n",
       "      <td>0</td>\n",
       "      <td>2.186867</td>\n",
       "    </tr>\n",
       "    <tr>\n",
       "      <th>1</th>\n",
       "      <td>0.082</td>\n",
       "      <td>11950.19</td>\n",
       "      <td>70450034.10</td>\n",
       "      <td>0</td>\n",
       "      <td>0.166220</td>\n",
       "    </tr>\n",
       "    <tr>\n",
       "      <th>2</th>\n",
       "      <td>0.036</td>\n",
       "      <td>25733.18</td>\n",
       "      <td>54278219.47</td>\n",
       "      <td>0</td>\n",
       "      <td>0.439202</td>\n",
       "    </tr>\n",
       "    <tr>\n",
       "      <th>3</th>\n",
       "      <td>0.149</td>\n",
       "      <td>80619.27</td>\n",
       "      <td>23118633.90</td>\n",
       "      <td>0</td>\n",
       "      <td>41.889177</td>\n",
       "    </tr>\n",
       "    <tr>\n",
       "      <th>4</th>\n",
       "      <td>0.027</td>\n",
       "      <td>40999.06</td>\n",
       "      <td>36304847.90</td>\n",
       "      <td>0</td>\n",
       "      <td>1.250106</td>\n",
       "    </tr>\n",
       "  </tbody>\n",
       "</table>\n",
       "</div>"
      ],
      "text/plain": [
       "   diameter_km  velocity_kmph  distance_km  is_hazardous  risk_score\n",
       "0        0.045       49511.25  50442662.03             0    2.186867\n",
       "1        0.082       11950.19  70450034.10             0    0.166220\n",
       "2        0.036       25733.18  54278219.47             0    0.439202\n",
       "3        0.149       80619.27  23118633.90             0   41.889177\n",
       "4        0.027       40999.06  36304847.90             0    1.250106"
      ]
     },
     "execution_count": 17,
     "metadata": {},
     "output_type": "execute_result"
    }
   ],
   "source": [
    "# prompt: Replace risk with a new parameter risk_score. risk_score is the product of diameter and square of velocity, divided by the distance_km\n",
    "\n",
    "new_df['risk_score'] = (new_df['diameter_km'] * (new_df['velocity_kmph']**2)) / new_df['distance_km']\n",
    "new_df = new_df.drop('risk', axis=1)\n",
    "# df = df.drop('risk_numeric', axis=1)\n",
    "new_df.head()"
   ]
  },
  {
   "cell_type": "code",
   "execution_count": 18,
   "id": "8Dkbvla5WEXs",
   "metadata": {
    "colab": {
     "base_uri": "https://localhost:8080/",
     "height": 206
    },
    "id": "8Dkbvla5WEXs",
    "outputId": "f8c192cf-65c1-4ff8-9b58-108ba0bdd323"
   },
   "outputs": [
    {
     "data": {
      "text/html": [
       "<div>\n",
       "<style scoped>\n",
       "    .dataframe tbody tr th:only-of-type {\n",
       "        vertical-align: middle;\n",
       "    }\n",
       "\n",
       "    .dataframe tbody tr th {\n",
       "        vertical-align: top;\n",
       "    }\n",
       "\n",
       "    .dataframe thead th {\n",
       "        text-align: right;\n",
       "    }\n",
       "</style>\n",
       "<table border=\"1\" class=\"dataframe\">\n",
       "  <thead>\n",
       "    <tr style=\"text-align: right;\">\n",
       "      <th></th>\n",
       "      <th>diameter_km</th>\n",
       "      <th>velocity_kmph</th>\n",
       "      <th>distance_km</th>\n",
       "      <th>is_hazardous</th>\n",
       "      <th>risk_score</th>\n",
       "    </tr>\n",
       "  </thead>\n",
       "  <tbody>\n",
       "    <tr>\n",
       "      <th>0</th>\n",
       "      <td>0.045</td>\n",
       "      <td>49511.25</td>\n",
       "      <td>50442662.03</td>\n",
       "      <td>0</td>\n",
       "      <td>0.000435</td>\n",
       "    </tr>\n",
       "    <tr>\n",
       "      <th>1</th>\n",
       "      <td>0.082</td>\n",
       "      <td>11950.19</td>\n",
       "      <td>70450034.10</td>\n",
       "      <td>0</td>\n",
       "      <td>0.000031</td>\n",
       "    </tr>\n",
       "    <tr>\n",
       "      <th>2</th>\n",
       "      <td>0.036</td>\n",
       "      <td>25733.18</td>\n",
       "      <td>54278219.47</td>\n",
       "      <td>0</td>\n",
       "      <td>0.000085</td>\n",
       "    </tr>\n",
       "    <tr>\n",
       "      <th>3</th>\n",
       "      <td>0.149</td>\n",
       "      <td>80619.27</td>\n",
       "      <td>23118633.90</td>\n",
       "      <td>0</td>\n",
       "      <td>0.008381</td>\n",
       "    </tr>\n",
       "    <tr>\n",
       "      <th>4</th>\n",
       "      <td>0.027</td>\n",
       "      <td>40999.06</td>\n",
       "      <td>36304847.90</td>\n",
       "      <td>0</td>\n",
       "      <td>0.000247</td>\n",
       "    </tr>\n",
       "  </tbody>\n",
       "</table>\n",
       "</div>"
      ],
      "text/plain": [
       "   diameter_km  velocity_kmph  distance_km  is_hazardous  risk_score\n",
       "0        0.045       49511.25  50442662.03             0    0.000435\n",
       "1        0.082       11950.19  70450034.10             0    0.000031\n",
       "2        0.036       25733.18  54278219.47             0    0.000085\n",
       "3        0.149       80619.27  23118633.90             0    0.008381\n",
       "4        0.027       40999.06  36304847.90             0    0.000247"
      ]
     },
     "execution_count": 18,
     "metadata": {},
     "output_type": "execute_result"
    }
   ],
   "source": [
    "# prompt: normalise risk_score\n",
    "\n",
    "from sklearn.preprocessing import MinMaxScaler\n",
    "\n",
    "scaler = MinMaxScaler()\n",
    "new_df['risk_score'] = scaler.fit_transform(new_df[['risk_score']])\n",
    "\n",
    "new_df.head()"
   ]
  },
  {
   "cell_type": "code",
   "execution_count": 19,
   "id": "hdnoDPYxWwvM",
   "metadata": {
    "colab": {
     "base_uri": "https://localhost:8080/"
    },
    "id": "hdnoDPYxWwvM",
    "outputId": "12668852-e6a0-4d52-86b4-92e4e7ab42d3"
   },
   "outputs": [
    {
     "name": "stdout",
     "output_type": "stream",
     "text": [
      "Training set shape (X_train, y_train): (1276, 4), (1276,)\n",
      "Testing set shape (X_test, y_test): (319, 4), (319,)\n"
     ]
    }
   ],
   "source": [
    "# prompt: Split the data into a 80:20 train test dataset. The target variable is is_hazardous\n",
    "\n",
    "from sklearn.model_selection import train_test_split\n",
    "\n",
    "X = new_df.drop('is_hazardous', axis=1)  # Features\n",
    "y = new_df['is_hazardous']  # Target variable\n",
    "\n",
    "X_train, X_test, y_train, y_test = train_test_split(X, y, test_size=0.2, random_state=42)\n",
    "\n",
    "print(f\"Training set shape (X_train, y_train): {X_train.shape}, {y_train.shape}\")\n",
    "print(f\"Testing set shape (X_test, y_test): {X_test.shape}, {y_test.shape}\")"
   ]
  },
  {
   "cell_type": "code",
   "execution_count": 20,
   "id": "-M07Z5mqYIMg",
   "metadata": {
    "colab": {
     "base_uri": "https://localhost:8080/",
     "height": 206
    },
    "id": "-M07Z5mqYIMg",
    "outputId": "4b69a25b-1cd5-47d1-9056-fa3a36962176"
   },
   "outputs": [
    {
     "data": {
      "text/html": [
       "<div>\n",
       "<style scoped>\n",
       "    .dataframe tbody tr th:only-of-type {\n",
       "        vertical-align: middle;\n",
       "    }\n",
       "\n",
       "    .dataframe tbody tr th {\n",
       "        vertical-align: top;\n",
       "    }\n",
       "\n",
       "    .dataframe thead th {\n",
       "        text-align: right;\n",
       "    }\n",
       "</style>\n",
       "<table border=\"1\" class=\"dataframe\">\n",
       "  <thead>\n",
       "    <tr style=\"text-align: right;\">\n",
       "      <th></th>\n",
       "      <th>diameter_km</th>\n",
       "      <th>velocity_kmph</th>\n",
       "      <th>distance_km</th>\n",
       "      <th>is_hazardous</th>\n",
       "      <th>risk_score</th>\n",
       "    </tr>\n",
       "  </thead>\n",
       "  <tbody>\n",
       "    <tr>\n",
       "      <th>0</th>\n",
       "      <td>0.010903</td>\n",
       "      <td>0.243947</td>\n",
       "      <td>0.674447</td>\n",
       "      <td>0</td>\n",
       "      <td>0.000435</td>\n",
       "    </tr>\n",
       "    <tr>\n",
       "      <th>1</th>\n",
       "      <td>0.020509</td>\n",
       "      <td>0.042545</td>\n",
       "      <td>0.942074</td>\n",
       "      <td>0</td>\n",
       "      <td>0.000031</td>\n",
       "    </tr>\n",
       "    <tr>\n",
       "      <th>2</th>\n",
       "      <td>0.008567</td>\n",
       "      <td>0.116449</td>\n",
       "      <td>0.725753</td>\n",
       "      <td>0</td>\n",
       "      <td>0.000085</td>\n",
       "    </tr>\n",
       "    <tr>\n",
       "      <th>3</th>\n",
       "      <td>0.037902</td>\n",
       "      <td>0.410748</td>\n",
       "      <td>0.308950</td>\n",
       "      <td>0</td>\n",
       "      <td>0.008381</td>\n",
       "    </tr>\n",
       "    <tr>\n",
       "      <th>4</th>\n",
       "      <td>0.006231</td>\n",
       "      <td>0.198305</td>\n",
       "      <td>0.485334</td>\n",
       "      <td>0</td>\n",
       "      <td>0.000247</td>\n",
       "    </tr>\n",
       "  </tbody>\n",
       "</table>\n",
       "</div>"
      ],
      "text/plain": [
       "   diameter_km  velocity_kmph  distance_km  is_hazardous  risk_score\n",
       "0     0.010903       0.243947     0.674447             0    0.000435\n",
       "1     0.020509       0.042545     0.942074             0    0.000031\n",
       "2     0.008567       0.116449     0.725753             0    0.000085\n",
       "3     0.037902       0.410748     0.308950             0    0.008381\n",
       "4     0.006231       0.198305     0.485334             0    0.000247"
      ]
     },
     "execution_count": 20,
     "metadata": {},
     "output_type": "execute_result"
    }
   ],
   "source": [
    "# prompt: Scale all the columns\n",
    "\n",
    "# Initialize the MinMaxScaler\n",
    "scaler = MinMaxScaler()\n",
    "\n",
    "# Scale all columns in new_df except 'is_hazardous'\n",
    "# Assuming 'is_hazardous' is the target and should not be scaled with features\n",
    "columns_to_scale = new_df.columns.difference(['is_hazardous'])\n",
    "new_df[columns_to_scale] = scaler.fit_transform(new_df[columns_to_scale])\n",
    "\n",
    "new_df.head()"
   ]
  },
  {
   "cell_type": "code",
   "execution_count": 21,
   "id": "94No2w6Id7ZN",
   "metadata": {
    "colab": {
     "base_uri": "https://localhost:8080/",
     "height": 423
    },
    "id": "94No2w6Id7ZN",
    "outputId": "d515df71-ab05-48f5-b2c0-d8bb284ee1d8"
   },
   "outputs": [
    {
     "data": {
      "text/html": [
       "<div>\n",
       "<style scoped>\n",
       "    .dataframe tbody tr th:only-of-type {\n",
       "        vertical-align: middle;\n",
       "    }\n",
       "\n",
       "    .dataframe tbody tr th {\n",
       "        vertical-align: top;\n",
       "    }\n",
       "\n",
       "    .dataframe thead th {\n",
       "        text-align: right;\n",
       "    }\n",
       "</style>\n",
       "<table border=\"1\" class=\"dataframe\">\n",
       "  <thead>\n",
       "    <tr style=\"text-align: right;\">\n",
       "      <th></th>\n",
       "      <th>diameter_km</th>\n",
       "      <th>velocity_kmph</th>\n",
       "      <th>distance_km</th>\n",
       "      <th>is_hazardous</th>\n",
       "      <th>risk_score</th>\n",
       "    </tr>\n",
       "  </thead>\n",
       "  <tbody>\n",
       "    <tr>\n",
       "      <th>0</th>\n",
       "      <td>0.010903</td>\n",
       "      <td>0.243947</td>\n",
       "      <td>0.674447</td>\n",
       "      <td>0</td>\n",
       "      <td>0.000435</td>\n",
       "    </tr>\n",
       "    <tr>\n",
       "      <th>1</th>\n",
       "      <td>0.020509</td>\n",
       "      <td>0.042545</td>\n",
       "      <td>0.942074</td>\n",
       "      <td>0</td>\n",
       "      <td>0.000031</td>\n",
       "    </tr>\n",
       "    <tr>\n",
       "      <th>2</th>\n",
       "      <td>0.008567</td>\n",
       "      <td>0.116449</td>\n",
       "      <td>0.725753</td>\n",
       "      <td>0</td>\n",
       "      <td>0.000085</td>\n",
       "    </tr>\n",
       "    <tr>\n",
       "      <th>3</th>\n",
       "      <td>0.037902</td>\n",
       "      <td>0.410748</td>\n",
       "      <td>0.308950</td>\n",
       "      <td>0</td>\n",
       "      <td>0.008381</td>\n",
       "    </tr>\n",
       "    <tr>\n",
       "      <th>4</th>\n",
       "      <td>0.006231</td>\n",
       "      <td>0.198305</td>\n",
       "      <td>0.485334</td>\n",
       "      <td>0</td>\n",
       "      <td>0.000247</td>\n",
       "    </tr>\n",
       "    <tr>\n",
       "      <th>...</th>\n",
       "      <td>...</td>\n",
       "      <td>...</td>\n",
       "      <td>...</td>\n",
       "      <td>...</td>\n",
       "      <td>...</td>\n",
       "    </tr>\n",
       "    <tr>\n",
       "      <th>1590</th>\n",
       "      <td>0.047767</td>\n",
       "      <td>0.442250</td>\n",
       "      <td>0.368475</td>\n",
       "      <td>0</td>\n",
       "      <td>0.010154</td>\n",
       "    </tr>\n",
       "    <tr>\n",
       "      <th>1591</th>\n",
       "      <td>0.015576</td>\n",
       "      <td>0.238473</td>\n",
       "      <td>0.102965</td>\n",
       "      <td>0</td>\n",
       "      <td>0.003838</td>\n",
       "    </tr>\n",
       "    <tr>\n",
       "      <th>1592</th>\n",
       "      <td>0.010125</td>\n",
       "      <td>0.023154</td>\n",
       "      <td>0.196857</td>\n",
       "      <td>0</td>\n",
       "      <td>0.000037</td>\n",
       "    </tr>\n",
       "    <tr>\n",
       "      <th>1593</th>\n",
       "      <td>0.014538</td>\n",
       "      <td>0.169428</td>\n",
       "      <td>0.066578</td>\n",
       "      <td>0</td>\n",
       "      <td>0.002993</td>\n",
       "    </tr>\n",
       "    <tr>\n",
       "      <th>1594</th>\n",
       "      <td>0.006490</td>\n",
       "      <td>0.062873</td>\n",
       "      <td>0.007158</td>\n",
       "      <td>0</td>\n",
       "      <td>0.002490</td>\n",
       "    </tr>\n",
       "  </tbody>\n",
       "</table>\n",
       "<p>1595 rows × 5 columns</p>\n",
       "</div>"
      ],
      "text/plain": [
       "      diameter_km  velocity_kmph  distance_km  is_hazardous  risk_score\n",
       "0        0.010903       0.243947     0.674447             0    0.000435\n",
       "1        0.020509       0.042545     0.942074             0    0.000031\n",
       "2        0.008567       0.116449     0.725753             0    0.000085\n",
       "3        0.037902       0.410748     0.308950             0    0.008381\n",
       "4        0.006231       0.198305     0.485334             0    0.000247\n",
       "...           ...            ...          ...           ...         ...\n",
       "1590     0.047767       0.442250     0.368475             0    0.010154\n",
       "1591     0.015576       0.238473     0.102965             0    0.003838\n",
       "1592     0.010125       0.023154     0.196857             0    0.000037\n",
       "1593     0.014538       0.169428     0.066578             0    0.002993\n",
       "1594     0.006490       0.062873     0.007158             0    0.002490\n",
       "\n",
       "[1595 rows x 5 columns]"
      ]
     },
     "execution_count": 21,
     "metadata": {},
     "output_type": "execute_result"
    }
   ],
   "source": [
    "new_df"
   ]
  },
  {
   "cell_type": "code",
   "execution_count": 22,
   "id": "ih17h07heCLB",
   "metadata": {
    "colab": {
     "base_uri": "https://localhost:8080/",
     "height": 410
    },
    "id": "ih17h07heCLB",
    "outputId": "c45d78a5-d699-4d56-ed4e-5ba5047ac654"
   },
   "outputs": [
    {
     "data": {
      "image/png": "[encoded data removed]",
      "text/plain": [
       "<Figure size 600x400 with 1 Axes>"
      ]
     },
     "metadata": {},
     "output_type": "display_data"
    }
   ],
   "source": [
    "# prompt: Plot the distribution of is_hazardous\n",
    "\n",
    "import matplotlib.pyplot as plt\n",
    "plt.figure(figsize=(6, 4))\n",
    "sns.countplot(x='is_hazardous', data=df)\n",
    "plt.title('Distribution of is_hazardous')\n",
    "plt.xlabel('Is Hazardous')\n",
    "plt.ylabel('Count')\n",
    "plt.xticks([0, 1], ['Not Hazardous (0)', 'Hazardous (1)'])\n",
    "plt.show()"
   ]
  },
  {
   "cell_type": "code",
   "execution_count": 23,
   "id": "kxtiqsAceHor",
   "metadata": {
    "colab": {
     "base_uri": "https://localhost:8080/",
     "height": 774
    },
    "id": "kxtiqsAceHor",
    "outputId": "c39c03c3-12b9-4483-ed32-45dad4187589"
   },
   "outputs": [
    {
     "name": "stdout",
     "output_type": "stream",
     "text": [
      "Original training set shape: (1276, 4), (1276,)\n",
      "Resampled training set shape: (2430, 4), (2430,)\n",
      "\n",
      "Distribution of 'is_hazardous' in original training set:\n",
      "is_hazardous\n",
      "0    1215\n",
      "1      61\n",
      "Name: count, dtype: int64\n",
      "\n",
      "Distribution of 'is_hazardous' in resampled training set:\n",
      "is_hazardous\n",
      "0    1215\n",
      "1    1215\n",
      "Name: count, dtype: int64\n"
     ]
    },
    {
     "data": {
      "image/png": "[encoded data removed]",
      "text/plain": [
       "<Figure size 600x400 with 1 Axes>"
      ]
     },
     "metadata": {},
     "output_type": "display_data"
    }
   ],
   "source": [
    "import pandas as pd\n",
    "import numpy as np\n",
    "import matplotlib.pyplot as plt\n",
    "import seaborn as sns\n",
    "from imblearn.over_sampling import SMOTE\n",
    "\n",
    "# Resample training data using SMOTE\n",
    "smote = SMOTE(random_state=42)\n",
    "X_resampled, y_resampled = smote.fit_resample(X_train, y_train)\n",
    "\n",
    "# Print shapes\n",
    "print(f\"Original training set shape: {X_train.shape}, {y_train.shape}\")\n",
    "print(f\"Resampled training set shape: {X_resampled.shape}, {y_resampled.shape}\")\n",
    "\n",
    "# Check class distribution\n",
    "print(\"\\nDistribution of 'is_hazardous' in original training set:\")\n",
    "print(y_train.value_counts())\n",
    "\n",
    "print(\"\\nDistribution of 'is_hazardous' in resampled training set:\")\n",
    "print(pd.Series(y_resampled).value_counts())\n",
    "\n",
    "# Visualize\n",
    "plt.figure(figsize=(6, 4))\n",
    "sns.countplot(x=y_resampled)\n",
    "plt.title('Distribution of is_hazardous after SMOTE')\n",
    "plt.xlabel('Is Hazardous')\n",
    "plt.ylabel('Count')\n",
    "plt.xticks([0, 1], ['Not Hazardous (0)', 'Hazardous (1)'])\n",
    "plt.show()\n"
   ]
  },
  {
   "cell_type": "markdown",
   "id": "SfS1lefGd4kD",
   "metadata": {
    "id": "SfS1lefGd4kD"
   },
   "source": [
    "# Model training"
   ]
  },
  {
   "cell_type": "code",
   "execution_count": 24,
   "id": "6pduHVlTtTck",
   "metadata": {
    "colab": {
     "base_uri": "https://localhost:8080/"
    },
    "id": "6pduHVlTtTck",
    "outputId": "a06a1714-3e88-48c2-9005-49d0d9f2b18c"
   },
   "outputs": [
    {
     "name": "stdout",
     "output_type": "stream",
     "text": [
      "Training the SVM model...\n",
      "[LibSVM]Training complete.\n"
     ]
    }
   ],
   "source": [
    "# prompt: Create an SVM model to predict is_hazardous . Set verbose so that I can see what is happening.\n",
    "\n",
    "from sklearn.svm import SVC\n",
    "from sklearn.metrics import classification_report, confusion_matrix, accuracy_score\n",
    "\n",
    "# Initialize the SVM model\n",
    "# We'll use a simple C-Support Vector Classification.\n",
    "# `probability=True` is needed if you want probability estimates (though not strictly needed for prediction here).\n",
    "# `verbose=True` will print output related to the optimization process.\n",
    "svm_model = SVC(probability=True, verbose=True)\n",
    "\n",
    "# Train the model\n",
    "print(\"Training the SVM model...\")\n",
    "svm_model.fit(X_resampled, y_resampled)\n",
    "print(\"Training complete.\")\n"
   ]
  },
  {
   "cell_type": "code",
   "execution_count": 25,
   "id": "E9cBd_ZKtfnq",
   "metadata": {
    "colab": {
     "base_uri": "https://localhost:8080/"
    },
    "id": "E9cBd_ZKtfnq",
    "outputId": "dbd333fd-11a4-404a-e1ae-d99d7fa71b64"
   },
   "outputs": [
    {
     "name": "stdout",
     "output_type": "stream",
     "text": [
      "\n",
      "Evaluating the SVM model:\n",
      "Confusion Matrix:\n",
      "[[141 168]\n",
      " [  5   5]]\n",
      "\n",
      "Classification Report:\n",
      "              precision    recall  f1-score   support\n",
      "\n",
      "           0       0.97      0.46      0.62       309\n",
      "           1       0.03      0.50      0.05        10\n",
      "\n",
      "    accuracy                           0.46       319\n",
      "   macro avg       0.50      0.48      0.34       319\n",
      "weighted avg       0.94      0.46      0.60       319\n",
      "\n",
      "\n",
      "Accuracy Score:\n",
      "0.45768025078369906\n"
     ]
    }
   ],
   "source": [
    "\n",
    "# Make predictions on the test set\n",
    "y_pred = svm_model.predict(X_test)\n",
    "\n",
    "# Evaluate the model\n",
    "print(\"\\nEvaluating the SVM model:\")\n",
    "print(\"Confusion Matrix:\")\n",
    "print(confusion_matrix(y_test, y_pred))\n",
    "\n",
    "print(\"\\nClassification Report:\")\n",
    "print(classification_report(y_test, y_pred))\n",
    "\n",
    "print(\"\\nAccuracy Score:\")\n",
    "print(accuracy_score(y_test, y_pred))\n"
   ]
  },
  {
   "cell_type": "code",
   "execution_count": 26,
   "id": "30385688-c2d7-4e56-a037-25461d35fff9",
   "metadata": {
    "colab": {
     "base_uri": "https://localhost:8080/",
     "height": 564
    },
    "id": "xn9CpaTYemmx",
    "outputId": "08ebd6a8-4cbf-4faf-a57b-e50bc297c42b"
   },
   "outputs": [
    {
     "data": {
      "image/png": "[encoded data removed]",
      "text/plain": [
       "<Figure size 800x600 with 1 Axes>"
      ]
     },
     "metadata": {},
     "output_type": "display_data"
    }
   ],
   "source": [
    "# prompt: Plot ROC curve\n",
    "\n",
    "import matplotlib.pyplot as plt\n",
    "from sklearn.metrics import roc_curve, auc\n",
    "\n",
    "# Get probability predictions for the positive class (is_hazardous = 1)\n",
    "y_proba = svm_model.predict_proba(X_test)[:, 1]\n",
    "\n",
    "# Compute ROC curve\n",
    "fpr, tpr, thresholds = roc_curve(y_test, y_proba)\n",
    "\n",
    "# Compute AUC (Area Under the Curve)\n",
    "roc_auc = auc(fpr, tpr)\n",
    "\n",
    "# Plot ROC curve\n",
    "plt.figure(figsize=(8, 6))\n",
    "plt.plot(fpr, tpr, color='darkorange', lw=2, label='ROC curve (area = %0.2f)' % roc_auc)\n",
    "plt.plot([0, 1], [0, 1], color='navy', lw=2, linestyle='--')\n",
    "plt.xlim([0.0, 1.0])\n",
    "plt.ylim([0.0, 1.05])\n",
    "plt.xlabel('False Positive Rate')\n",
    "plt.ylabel('True Positive Rate')\n",
    "plt.title('Receiver Operating Characteristic (ROC) Curve')\n",
    "plt.legend(loc=\"lower right\")\n",
    "plt.grid(True)\n",
    "plt.show()\n"
   ]
  },
  {
   "cell_type": "code",
   "execution_count": null,
   "id": "xa3NAJEkeoiu",
   "metadata": {
    "colab": {
     "base_uri": "https://localhost:8080/"
    },
    "id": "xa3NAJEkeoiu",
    "outputId": "3fbe71cd-09d3-4ecc-946e-21473e9b3136"
   },
   "outputs": [
    {
     "name": "stdout",
     "output_type": "stream",
     "text": [
      "Starting GridSearchCV...\n",
      "Fitting 5 folds for each of 8 candidates, totalling 40 fits\n",
      "[CV 1/5] END ......C=1, gamma=scale, kernel=rbf;, score=0.560 total time=   0.2s\n",
      "[CV 2/5] END ......C=1, gamma=scale, kernel=rbf;, score=0.626 total time=   0.2s\n",
      "[CV 3/5] END ......C=1, gamma=scale, kernel=rbf;, score=0.593 total time=   0.2s\n",
      "[CV 4/5] END ......C=1, gamma=scale, kernel=rbf;, score=0.584 total time=   0.2s\n",
      "[CV 5/5] END ......C=1, gamma=scale, kernel=rbf;, score=0.595 total time=   0.1s\n"
     ]
    }
   ],
   "source": [
    "# prompt: Use gridsearch to find the best parameters\n",
    "\n",
    "import matplotlib.pyplot as plt\n",
    "from sklearn.model_selection import GridSearchCV\n",
    "\n",
    "# Define the parameter grid for GridSearchCV\n",
    "param_grid = {\n",
    "    'C': [1, 10],\n",
    "    'gamma': ['scale', 0.1],\n",
    "    'kernel': ['rbf', 'linear']\n",
    "}\n",
    "\n",
    "# Initialize GridSearchCV\n",
    "# cv=5 means 5-fold cross-validation\n",
    "grid_search = GridSearchCV(SVC(), param_grid, refit=True, verbose=3, cv=5)\n",
    "\n",
    "# Fit the grid search to the resampled training data\n",
    "print(\"Starting GridSearchCV...\")\n",
    "grid_search.fit(X_resampled, y_resampled)\n",
    "\n",
    "# param_grid_linear = {'C': [1, 10]}\n",
    "# grid_search_linear = GridSearchCV(LinearSVC(), param_grid_linear, cv=5, verbose=3)\n",
    "# grid_search_linear.fit(X_resampled, y_resampled)\n",
    "\n",
    "print(\"GridSearchCV complete.\")\n",
    "\n",
    "# Print the best parameters found\n",
    "print(\"\\nBest parameters found by GridSearchCV:\")\n",
    "print(grid_search.best_params_)\n",
    "\n",
    "# Print the best score found\n",
    "print(\"\\nBest cross-validation score:\")\n",
    "print(grid_search.best_score_)\n"
   ]
  },
  {
   "cell_type": "code",
   "execution_count": null,
   "id": "Sr7fa0qyff4M",
   "metadata": {
    "id": "Sr7fa0qyff4M"
   },
   "outputs": [],
   "source": [
    "\n",
    "# Get the best model from the grid search\n",
    "best_svm_model = grid_search.best_estimator_\n",
    "\n",
    "# Make predictions on the test set using the best model\n",
    "y_pred_best = best_svm_model.predict(X_test)\n",
    "\n",
    "# Evaluate the best model\n",
    "print(\"\\nEvaluating the Best SVM model found by GridSearchCV:\")\n",
    "print(\"Confusion Matrix:\")\n",
    "print(confusion_matrix(y_test, y_pred_best))\n",
    "\n",
    "print(\"\\nClassification Report:\")\n",
    "print(classification_report(y_test, y_pred_best))\n",
    "\n",
    "print(\"\\nAccuracy Score:\")\n",
    "print(accuracy_score(y_test, y_pred_best))\n",
    "\n",
    "# Get probability predictions for the positive class (is_hazardous = 1) using the best model\n",
    "y_proba_best = best_svm_model.predict_proba(X_test)[:, 1]\n",
    "\n",
    "# Compute ROC curve for the best model\n",
    "fpr_best, tpr_best, thresholds_best = roc_curve(y_test, y_proba_best)\n",
    "\n",
    "# Compute AUC for the best model\n",
    "roc_auc_best = auc(fpr_best, tpr_best)\n",
    "\n",
    "# Plot ROC curve for the best model\n",
    "plt.figure(figsize=(8, 6))\n",
    "plt.plot(fpr_best, tpr_best, color='darkorange', lw=2, label='ROC curve (area = %0.2f)' % roc_auc_best)\n",
    "plt.plot([0, 1], [0, 1], color='navy', lw=2, linestyle='--')\n",
    "plt.xlim([0.0, 1.0])\n",
    "plt.ylim([0.0, 1.05])\n",
    "plt.xlabel('False Positive Rate')\n",
    "plt.ylabel('True Positive Rate')\n",
    "plt.title('Receiver Operating Characteristic (ROC) Curve - Best Model')\n",
    "plt.legend(loc=\"lower right\")\n",
    "plt.grid(True)\n",
    "plt.show()"
   ]
  },
  {
   "cell_type": "code",
   "execution_count": null,
   "id": "f545385d-ea15-430e-be69-5117290985f5",
   "metadata": {},
   "outputs": [],
   "source": []
  }
 ],
 "metadata": {
  "colab": {
   "provenance": []
  },
  "kernelspec": {
   "display_name": "Python 3 (ipykernel)",
   "language": "python",
   "name": "python3"
  },
  "language_info": {
   "codemirror_mode": {
    "name": "ipython",
    "version": 3
   },
   "file_extension": ".py",
   "mimetype": "text/x-python",
   "name": "python",
   "nbconvert_exporter": "python",
   "pygments_lexer": "ipython3",
   "version": "3.11.0"
  }
 },
 "nbformat": 4,
 "nbformat_minor": 5
}
