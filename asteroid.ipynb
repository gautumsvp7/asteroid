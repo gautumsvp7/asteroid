{
 "cells": [
  {
   "cell_type": "code",
   "execution_count": 2,
   "id": "a968464f-438a-48e5-a435-f7df3af8db16",
   "metadata": {},
   "outputs": [],
   "source": [
    "import pandas as pd"
   ]
  },
  {
   "cell_type": "code",
   "execution_count": 3,
   "id": "555d276b-0318-4491-9361-559daa441b31",
   "metadata": {},
   "outputs": [],
   "source": [
    "df = pd.read_csv('asteroid_data.csv')"
   ]
  },
  {
   "cell_type": "code",
   "execution_count": 4,
   "id": "c6e62ac3-d09e-4b29-9323-e1726aa5891b",
   "metadata": {},
   "outputs": [
    {
     "data": {
      "text/html": [
       "<div>\n",
       "<style scoped>\n",
       "    .dataframe tbody tr th:only-of-type {\n",
       "        vertical-align: middle;\n",
       "    }\n",
       "\n",
       "    .dataframe tbody tr th {\n",
       "        vertical-align: top;\n",
       "    }\n",
       "\n",
       "    .dataframe thead th {\n",
       "        text-align: right;\n",
       "    }\n",
       "</style>\n",
       "<table border=\"1\" class=\"dataframe\">\n",
       "  <thead>\n",
       "    <tr style=\"text-align: right;\">\n",
       "      <th></th>\n",
       "      <th>name</th>\n",
       "      <th>approach_date</th>\n",
       "      <th>diameter_km</th>\n",
       "      <th>velocity_kmph</th>\n",
       "      <th>distance_km</th>\n",
       "      <th>is_hazardous</th>\n",
       "    </tr>\n",
       "  </thead>\n",
       "  <tbody>\n",
       "    <tr>\n",
       "      <th>0</th>\n",
       "      <td>478784 (2012 UV136)</td>\n",
       "      <td>2025-06-02</td>\n",
       "      <td>0.045</td>\n",
       "      <td>49511.25</td>\n",
       "      <td>50442662.03</td>\n",
       "      <td>False</td>\n",
       "    </tr>\n",
       "    <tr>\n",
       "      <th>1</th>\n",
       "      <td>(2015 RQ35)</td>\n",
       "      <td>2025-06-02</td>\n",
       "      <td>0.082</td>\n",
       "      <td>11950.19</td>\n",
       "      <td>70450034.10</td>\n",
       "      <td>False</td>\n",
       "    </tr>\n",
       "    <tr>\n",
       "      <th>2</th>\n",
       "      <td>(2016 EL27)</td>\n",
       "      <td>2025-06-02</td>\n",
       "      <td>0.036</td>\n",
       "      <td>25733.18</td>\n",
       "      <td>54278219.47</td>\n",
       "      <td>False</td>\n",
       "    </tr>\n",
       "    <tr>\n",
       "      <th>3</th>\n",
       "      <td>(2019 VF1)</td>\n",
       "      <td>2025-06-02</td>\n",
       "      <td>0.149</td>\n",
       "      <td>80619.27</td>\n",
       "      <td>23118633.90</td>\n",
       "      <td>False</td>\n",
       "    </tr>\n",
       "    <tr>\n",
       "      <th>4</th>\n",
       "      <td>(2020 XS5)</td>\n",
       "      <td>2025-06-02</td>\n",
       "      <td>0.027</td>\n",
       "      <td>40999.06</td>\n",
       "      <td>36304847.90</td>\n",
       "      <td>False</td>\n",
       "    </tr>\n",
       "  </tbody>\n",
       "</table>\n",
       "</div>"
      ],
      "text/plain": [
       "                  name approach_date  diameter_km  velocity_kmph  distance_km  \\\n",
       "0  478784 (2012 UV136)    2025-06-02        0.045       49511.25  50442662.03   \n",
       "1          (2015 RQ35)    2025-06-02        0.082       11950.19  70450034.10   \n",
       "2          (2016 EL27)    2025-06-02        0.036       25733.18  54278219.47   \n",
       "3           (2019 VF1)    2025-06-02        0.149       80619.27  23118633.90   \n",
       "4           (2020 XS5)    2025-06-02        0.027       40999.06  36304847.90   \n",
       "\n",
       "   is_hazardous  \n",
       "0         False  \n",
       "1         False  \n",
       "2         False  \n",
       "3         False  \n",
       "4         False  "
      ]
     },
     "execution_count": 4,
     "metadata": {},
     "output_type": "execute_result"
    }
   ],
   "source": [
    "df.head()"
   ]
  },
  {
   "cell_type": "markdown",
   "id": "12b8cdf6-d46a-4d0a-ad86-fd42d8569ad5",
   "metadata": {},
   "source": [
    "Define a label:\n",
    "\n",
    "If distance < 1 million km and size > 140m → \"High Risk\"\n",
    "\n",
    "Else if either condition met → \"Medium Risk\"\n",
    "\n",
    "Else → \"Low Risk\"\n",
    "\n",
    "👉 This creates a supervised dataset for ML."
   ]
  },
  {
   "cell_type": "code",
   "execution_count": null,
   "id": "c31b1514-767b-4381-b816-5e1967cc4f5f",
   "metadata": {},
   "outputs": [],
   "source": []
  }
 ],
 "metadata": {
  "kernelspec": {
   "display_name": "Python 3 (ipykernel)",
   "language": "python",
   "name": "python3"
  },
  "language_info": {
   "codemirror_mode": {
    "name": "ipython",
    "version": 3
   },
   "file_extension": ".py",
   "mimetype": "text/x-python",
   "name": "python",
   "nbconvert_exporter": "python",
   "pygments_lexer": "ipython3",
   "version": "3.11.0"
  }
 },
 "nbformat": 4,
 "nbformat_minor": 5
}
